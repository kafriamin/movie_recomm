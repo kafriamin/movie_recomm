{
 "cells": [
  {
   "cell_type": "code",
   "execution_count": 1,
   "id": "33cda95a-d3af-47dd-9112-5acf56b1c14d",
   "metadata": {},
   "outputs": [],
   "source": [
    "import pandas as pd"
   ]
  },
  {
   "cell_type": "code",
   "execution_count": 2,
   "id": "0f1cb5a2-59d5-46b5-8ce2-4dd80a2ed57e",
   "metadata": {},
   "outputs": [],
   "source": [
    "df_rating = pd.read_csv(\"res/ratings.csv\")"
   ]
  },
  {
   "cell_type": "code",
   "execution_count": 3,
   "id": "62ce600f-e550-44b4-bf92-167ad7c1ed4e",
   "metadata": {},
   "outputs": [
    {
     "data": {
      "text/html": [
       "<div>\n",
       "<style scoped>\n",
       "    .dataframe tbody tr th:only-of-type {\n",
       "        vertical-align: middle;\n",
       "    }\n",
       "\n",
       "    .dataframe tbody tr th {\n",
       "        vertical-align: top;\n",
       "    }\n",
       "\n",
       "    .dataframe thead th {\n",
       "        text-align: right;\n",
       "    }\n",
       "</style>\n",
       "<table border=\"1\" class=\"dataframe\">\n",
       "  <thead>\n",
       "    <tr style=\"text-align: right;\">\n",
       "      <th></th>\n",
       "      <th>userId</th>\n",
       "      <th>movieId</th>\n",
       "      <th>rating</th>\n",
       "      <th>timestamp</th>\n",
       "    </tr>\n",
       "  </thead>\n",
       "  <tbody>\n",
       "    <tr>\n",
       "      <th>0</th>\n",
       "      <td>1</td>\n",
       "      <td>1</td>\n",
       "      <td>4.0</td>\n",
       "      <td>964982703</td>\n",
       "    </tr>\n",
       "    <tr>\n",
       "      <th>1</th>\n",
       "      <td>1</td>\n",
       "      <td>3</td>\n",
       "      <td>4.0</td>\n",
       "      <td>964981247</td>\n",
       "    </tr>\n",
       "    <tr>\n",
       "      <th>2</th>\n",
       "      <td>1</td>\n",
       "      <td>6</td>\n",
       "      <td>4.0</td>\n",
       "      <td>964982224</td>\n",
       "    </tr>\n",
       "    <tr>\n",
       "      <th>3</th>\n",
       "      <td>1</td>\n",
       "      <td>47</td>\n",
       "      <td>5.0</td>\n",
       "      <td>964983815</td>\n",
       "    </tr>\n",
       "    <tr>\n",
       "      <th>4</th>\n",
       "      <td>1</td>\n",
       "      <td>50</td>\n",
       "      <td>5.0</td>\n",
       "      <td>964982931</td>\n",
       "    </tr>\n",
       "  </tbody>\n",
       "</table>\n",
       "</div>"
      ],
      "text/plain": [
       "   userId  movieId  rating  timestamp\n",
       "0       1        1     4.0  964982703\n",
       "1       1        3     4.0  964981247\n",
       "2       1        6     4.0  964982224\n",
       "3       1       47     5.0  964983815\n",
       "4       1       50     5.0  964982931"
      ]
     },
     "execution_count": 3,
     "metadata": {},
     "output_type": "execute_result"
    }
   ],
   "source": [
    "df_rating.head()"
   ]
  },
  {
   "cell_type": "code",
   "execution_count": 8,
   "id": "29d9f5ab-8c71-4c25-ba3a-f8f30c87b360",
   "metadata": {},
   "outputs": [],
   "source": [
    "df_newRatings = df_rating.loc[:, df_rating.columns != \"timestamp\"]"
   ]
  },
  {
   "cell_type": "code",
   "execution_count": 14,
   "id": "175daa36-874b-48c1-86c6-b10974f90213",
   "metadata": {},
   "outputs": [
    {
     "data": {
      "text/html": [
       "<div>\n",
       "<style scoped>\n",
       "    .dataframe tbody tr th:only-of-type {\n",
       "        vertical-align: middle;\n",
       "    }\n",
       "\n",
       "    .dataframe tbody tr th {\n",
       "        vertical-align: top;\n",
       "    }\n",
       "\n",
       "    .dataframe thead th {\n",
       "        text-align: right;\n",
       "    }\n",
       "</style>\n",
       "<table border=\"1\" class=\"dataframe\">\n",
       "  <thead>\n",
       "    <tr style=\"text-align: right;\">\n",
       "      <th></th>\n",
       "      <th>userId</th>\n",
       "      <th>movieId</th>\n",
       "      <th>rating</th>\n",
       "    </tr>\n",
       "  </thead>\n",
       "  <tbody>\n",
       "    <tr>\n",
       "      <th>count</th>\n",
       "      <td>215.000000</td>\n",
       "      <td>215.0</td>\n",
       "      <td>215.000000</td>\n",
       "    </tr>\n",
       "    <tr>\n",
       "      <th>mean</th>\n",
       "      <td>306.530233</td>\n",
       "      <td>1.0</td>\n",
       "      <td>3.920930</td>\n",
       "    </tr>\n",
       "    <tr>\n",
       "      <th>std</th>\n",
       "      <td>180.419754</td>\n",
       "      <td>0.0</td>\n",
       "      <td>0.834859</td>\n",
       "    </tr>\n",
       "    <tr>\n",
       "      <th>min</th>\n",
       "      <td>1.000000</td>\n",
       "      <td>1.0</td>\n",
       "      <td>0.500000</td>\n",
       "    </tr>\n",
       "    <tr>\n",
       "      <th>25%</th>\n",
       "      <td>155.500000</td>\n",
       "      <td>1.0</td>\n",
       "      <td>3.500000</td>\n",
       "    </tr>\n",
       "    <tr>\n",
       "      <th>50%</th>\n",
       "      <td>290.000000</td>\n",
       "      <td>1.0</td>\n",
       "      <td>4.000000</td>\n",
       "    </tr>\n",
       "    <tr>\n",
       "      <th>75%</th>\n",
       "      <td>468.500000</td>\n",
       "      <td>1.0</td>\n",
       "      <td>4.500000</td>\n",
       "    </tr>\n",
       "    <tr>\n",
       "      <th>max</th>\n",
       "      <td>610.000000</td>\n",
       "      <td>1.0</td>\n",
       "      <td>5.000000</td>\n",
       "    </tr>\n",
       "  </tbody>\n",
       "</table>\n",
       "</div>"
      ],
      "text/plain": [
       "           userId  movieId      rating\n",
       "count  215.000000    215.0  215.000000\n",
       "mean   306.530233      1.0    3.920930\n",
       "std    180.419754      0.0    0.834859\n",
       "min      1.000000      1.0    0.500000\n",
       "25%    155.500000      1.0    3.500000\n",
       "50%    290.000000      1.0    4.000000\n",
       "75%    468.500000      1.0    4.500000\n",
       "max    610.000000      1.0    5.000000"
      ]
     },
     "execution_count": 14,
     "metadata": {},
     "output_type": "execute_result"
    }
   ],
   "source": [
    "df_newRatings[df_newRatings[\"movieId\"] == 1].describe()"
   ]
  },
  {
   "cell_type": "code",
   "execution_count": 18,
   "id": "7f2591a0-8762-4d0b-bc8b-4e8d68fd1a9e",
   "metadata": {},
   "outputs": [
    {
     "data": {
      "text/plain": [
       "3.9209302325581397"
      ]
     },
     "execution_count": 18,
     "metadata": {},
     "output_type": "execute_result"
    }
   ],
   "source": [
    "df_newRatings[df_newRatings[\"movieId\"] == 1].rating.mean()"
   ]
  },
  {
   "cell_type": "code",
   "execution_count": 11,
   "id": "4426fef4-f852-40ac-be7c-693cb039a356",
   "metadata": {},
   "outputs": [
    {
     "data": {
      "text/plain": [
       "0     1\n",
       "1     3\n",
       "2     6\n",
       "3    47\n",
       "4    50\n",
       "Name: movieId, dtype: int64"
      ]
     },
     "execution_count": 11,
     "metadata": {},
     "output_type": "execute_result"
    }
   ],
   "source": [
    "df_newRatings[\"movieId\"].head()"
   ]
  },
  {
   "cell_type": "code",
   "execution_count": 35,
   "id": "eb8e01da-24c7-409b-9593-8020de59eae0",
   "metadata": {},
   "outputs": [],
   "source": [
    "# Slow version but get the last item that has 5 rating\n",
    "def get_highest_rating_movie():\n",
    "    avg_rating = {}\n",
    "    for i in df_newRatings[\"movieId\"]:\n",
    "        curr_rating = df_newRatings[df_newRatings[\"movieId\"] == i].rating.mean()\n",
    "        avg_rating[i] = curr_rating\n",
    "    max_rating = max(zip(avg_rating.values(), avg_rating.keys()))[1]\n",
    "    return max_rating, avg_rating[max_rating]"
   ]
  },
  {
   "cell_type": "code",
   "execution_count": 25,
   "id": "f178c019-c93a-4187-951c-ac3d6064e6c8",
   "metadata": {},
   "outputs": [],
   "source": [
    "mov_id, rate = get_highest_rating_movie()"
   ]
  },
  {
   "cell_type": "code",
   "execution_count": 26,
   "id": "1cdf5b37-63b5-4e79-bed4-fe3fd24c8fdd",
   "metadata": {},
   "outputs": [
    {
     "name": "stdout",
     "output_type": "stream",
     "text": [
      "Max rating:  187717\n",
      "Rating:  5.0\n"
     ]
    }
   ],
   "source": [
    "print(\"Max rating: \", mov_id)\n",
    "print(\"Rating: \", rate)"
   ]
  },
  {
   "cell_type": "code",
   "execution_count": 27,
   "id": "d8092d7f-1d71-40a3-9308-02247ec0f72f",
   "metadata": {},
   "outputs": [],
   "source": [
    "# Fast version but get the first movie with 5 avg rating\n",
    "def get_highest_rating_movie(df_newRatings):\n",
    "    avg_rating = df_newRatings.groupby(\"movieId\")[\"rating\"].mean()\n",
    "    \n",
    "    max_rating_movie_id = avg_rating.idxmax()\n",
    "    max_avg_rating = avg_rating[max_rating_movie_id]\n",
    "    \n",
    "    return max_rating_movie_id, max_avg_rating"
   ]
  },
  {
   "cell_type": "code",
   "execution_count": 28,
   "id": "c7941b1c-91a3-430a-ac45-74096cbba69e",
   "metadata": {},
   "outputs": [],
   "source": [
    "movie_id, avg_rating = get_highest_rating_movie(df_newRatings)"
   ]
  },
  {
   "cell_type": "code",
   "execution_count": 30,
   "id": "b488b9d4-3f5a-482a-989d-b7b4912be846",
   "metadata": {},
   "outputs": [
    {
     "name": "stdout",
     "output_type": "stream",
     "text": [
      "Highest rated movie (ID 53): 5.00\n"
     ]
    }
   ],
   "source": [
    "print(f\"Highest rated movie (ID {movie_id}): {avg_rating:.2f}\")"
   ]
  },
  {
   "cell_type": "code",
   "execution_count": 34,
   "id": "58f7eff0-31a4-43b2-a53e-f4b055d3ca5d",
   "metadata": {},
   "outputs": [],
   "source": [
    "def get_top_rated_movies(df_newRatings, threshold=5.0):\n",
    "    avg_rating = df_newRatings.groupby(\"movieId\")[\"rating\"].mean()\n",
    "    \n",
    "    top_rated_movies = avg_rating[avg_rating >= threshold]\n",
    "    \n",
    "    top_rated_movie_ids = top_rated_movies.index.tolist()\n",
    "    \n",
    "    return top_rated_movie_ids"
   ]
  },
  {
   "cell_type": "code",
   "execution_count": 32,
   "id": "0d956873-ea14-4dc1-a18a-34d1fecf0678",
   "metadata": {},
   "outputs": [],
   "source": [
    "top_rated_ids = get_top_rated_movies(df_newRatings)"
   ]
  },
  {
   "cell_type": "code",
   "execution_count": 36,
   "id": "fa14c344-7d28-4592-9145-3970dc3d7a78",
   "metadata": {},
   "outputs": [
    {
     "name": "stdout",
     "output_type": "stream",
     "text": [
      "Movie IDs with an average rating of 5 or higher: [53, 99, 148, 467, 495, 496, 626, 633, 876, 1140, 1151, 1310, 1349, 1631, 1759, 2075, 2196, 2512, 2824, 2969, 2972, 3073, 3086, 3096, 3303, 3473, 3496, 3531, 3567, 3637, 3678, 3687, 3792, 3795, 3851, 3939, 3940, 3941, 3942, 3951, 4116, 4135, 4180, 4402, 4454, 4495, 4788, 4813, 5059, 5088, 5241, 5244, 5328, 5416, 5468, 5490, 5513, 5537, 5607, 5723, 5745, 5746, 5888, 5889, 6021, 6086, 6192, 6201, 6402, 6408, 6442, 6611, 6818, 6835, 6983, 7071, 7096, 7122, 7815, 8238, 8580, 8738, 8804, 8911, 25887, 25906, 25947, 26073, 26078, 26147, 26169, 26350, 26366, 26401, 26587, 26840, 26849, 26928, 27320, 27373, 27523, 27704, 27751, 31522, 33138, 33649, 34312, 40491, 42556, 44851, 44943, 45503, 47736, 50999, 53280, 53355, 53578, 59814, 60737, 64499, 64501, 67618, 69211, 69469, 69860, 70451, 71268, 72142, 72692, 73822, 74226, 76091, 77846, 78836, 79897, 80124, 82744, 83969, 84273, 84512, 85295, 86237, 86668, 86721, 87834, 88448, 90943, 91355, 91386, 92494, 93008, 93022, 93320, 94810, 95149, 95175, 95311, 95843, 96430, 96608, 96832, 96935, 99636, 100556, 100906, 102084, 102217, 103602, 104780, 107771, 107951, 108078, 108795, 109241, 109633, 109687, 112512, 113829, 114265, 115727, 117531, 118270, 118834, 118894, 120130, 120138, 121781, 122092, 124404, 124851, 126088, 126921, 128087, 128914, 129514, 130970, 130978, 131098, 131130, 131237, 131610, 131724, 132153, 132333, 134004, 134095, 134109, 134796, 134847, 136341, 136353, 136355, 136359, 136445, 136447, 136469, 136503, 136556, 136834, 136850, 138632, 138835, 138966, 139640, 140133, 140265, 140627, 141718, 141816, 141928, 142020, 142444, 143031, 143511, 143559, 145994, 146662, 146684, 147196, 147250, 147286, 147300, 147326, 147328, 147330, 147410, 149350, 149508, 149566, 150554, 151769, 152711, 156025, 157775, 158027, 158398, 158882, 159811, 160644, 162344, 162414, 163072, 163112, 163386, 163925, 164367, 165959, 166183, 167064, 170597, 170777, 171749, 172577, 172583, 172585, 172587, 172589, 172637, 172705, 172793, 172875, 172909, 173351, 173355, 173619, 173963, 174551, 175293, 175387, 175397, 175431, 176601, 179133, 179135, 184245, 187717]\n"
     ]
    }
   ],
   "source": [
    "print(f\"Movie IDs with an average rating of 5 or higher: {top_rated_ids}\")"
   ]
  }
 ],
 "metadata": {
  "kernelspec": {
   "display_name": "Python 3 (ipykernel)",
   "language": "python",
   "name": "python3"
  },
  "language_info": {
   "codemirror_mode": {
    "name": "ipython",
    "version": 3
   },
   "file_extension": ".py",
   "mimetype": "text/x-python",
   "name": "python",
   "nbconvert_exporter": "python",
   "pygments_lexer": "ipython3",
   "version": "3.12.3"
  }
 },
 "nbformat": 4,
 "nbformat_minor": 5
}
